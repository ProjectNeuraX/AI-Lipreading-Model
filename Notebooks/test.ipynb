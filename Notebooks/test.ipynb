{
 "cells": [
  {
   "cell_type": "code",
   "execution_count": 1,
   "metadata": {},
   "outputs": [],
   "source": [
    "import numpy as np\n",
    "import cv2"
   ]
  },
  {
   "cell_type": "code",
   "execution_count": 3,
   "metadata": {},
   "outputs": [],
   "source": [
    "import ast\n",
    "file = '../test_data/yes/data.txt'\n",
    "with open(file, 'r') as f:\n",
    "    data = f.read()\n",
    "    data = ast.literal_eval(data)\n",
    "frames = np.array(data)"
   ]
  },
  {
   "cell_type": "code",
   "execution_count": 4,
   "metadata": {},
   "outputs": [
    {
     "data": {
      "text/plain": [
       "(22, 80, 112, 3)"
      ]
     },
     "execution_count": 4,
     "metadata": {},
     "output_type": "execute_result"
    }
   ],
   "source": [
    "frames.shape"
   ]
  },
  {
   "cell_type": "code",
   "execution_count": 8,
   "metadata": {},
   "outputs": [
    {
     "name": "stdout",
     "output_type": "stream",
     "text": [
      "112 80\n"
     ]
    }
   ],
   "source": [
    "output_width = frames.shape[2]\n",
    "output_height = frames.shape[1]\n",
    "output_fps = 30\n",
    "output_file = 'output.mp4'\n",
    "print(output_width, output_height)"
   ]
  },
  {
   "cell_type": "code",
   "execution_count": 9,
   "metadata": {},
   "outputs": [],
   "source": [
    "fourcc = cv2.VideoWriter_fourcc(*'mp4v')  # Use 'XVID' for AVI format\n",
    "out = cv2.VideoWriter(output_file, fourcc, output_fps, (output_width, output_height))\n",
    "\n",
    "# Loop through each frame and write it to the video file\n",
    "for frame in frames:\n",
    "    # Convert the frame to uint8 if necessary\n",
    "    frame = frame.astype(np.uint8)\n",
    "    # Write the frame to the video\n",
    "    out.write(frame)"
   ]
  },
  {
   "cell_type": "code",
   "execution_count": null,
   "metadata": {},
   "outputs": [],
   "source": []
  }
 ],
 "metadata": {
  "kernelspec": {
   "display_name": "Python 3",
   "language": "python",
   "name": "python3"
  },
  "language_info": {
   "codemirror_mode": {
    "name": "ipython",
    "version": 3
   },
   "file_extension": ".py",
   "mimetype": "text/x-python",
   "name": "python",
   "nbconvert_exporter": "python",
   "pygments_lexer": "ipython3",
   "version": "3.8.18"
  }
 },
 "nbformat": 4,
 "nbformat_minor": 2
}
