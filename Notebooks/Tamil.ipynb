{
  "nbformat": 4,
  "nbformat_minor": 0,
  "metadata": {
    "colab": {
      "provenance": [],
      "machine_shape": "hm",
      "gpuType": "A100"
    },
    "kernelspec": {
      "name": "python3",
      "display_name": "Python 3"
    },
    "language_info": {
      "name": "python"
    },
    "accelerator": "GPU"
  },
  "cells": [
    {
      "cell_type": "code",
      "execution_count": null,
      "metadata": {
        "id": "g6xy0HVYrM5P"
      },
      "outputs": [],
      "source": [
        "import numpy as np\n",
        "import os\n",
        "import matplotlib.pyplot as plt\n",
        "from sklearn.model_selection import train_test_split\n",
        "import gc\n",
        "from sklearn.metrics import classification_report, balanced_accuracy_score\n",
        "from sklearn.metrics import roc_curve, auc\n",
        "from sklearn.preprocessing import label_binarize\n",
        "from itertools import cycle\n",
        "from sklearn.preprocessing import LabelEncoder\n",
        "import sklearn\n",
        "import seaborn as sns\n",
        "import tensorflow as tf\n",
        "from keras import regularizers\n",
        "from prettytable import PrettyTable"
      ]
    },
    {
      "cell_type": "code",
      "source": [
        "!unzip \"/content/drive/MyDrive/Final Yr/videosCorrect-tamil.zip\""
      ],
      "metadata": {
        "colab": {
          "base_uri": "https://localhost:8080/"
        },
        "id": "dpgrP5K0rSXn",
        "outputId": "ea867b93-fdb5-4e8f-ea76-603f4f7c5228"
      },
      "execution_count": null,
      "outputs": [
        {
          "output_type": "stream",
          "name": "stdout",
          "text": [
            "Archive:  /content/drive/MyDrive/Final Yr/videosCorrect-tamil.zip\n",
            "  inflating: labelsCorrect-tamil.npy  \n",
            "  inflating: videosCorrect-tamil.npy  \n"
          ]
        }
      ]
    },
    {
      "cell_type": "code",
      "source": [
        "videos = np.load('/content/videosCorrect-tamil.npy')\n",
        "labels = np.load('/content/labelsCorrect-tamil.npy')"
      ],
      "metadata": {
        "id": "I59qVXYvrTK1"
      },
      "execution_count": null,
      "outputs": []
    },
    {
      "cell_type": "code",
      "source": [
        "# Print the shape of the videos and labels arrays\n",
        "print(\"Videos shape:\", videos.shape)\n",
        "print(\"Labels shape:\", labels.shape)"
      ],
      "metadata": {
        "colab": {
          "base_uri": "https://localhost:8080/"
        },
        "id": "rGX_3ctcrVDB",
        "outputId": "c9902b08-ae20-4e6e-9fb2-2b217b0a3bc1"
      },
      "execution_count": null,
      "outputs": [
        {
          "output_type": "stream",
          "name": "stdout",
          "text": [
            "Videos shape: (482, 22, 80, 112, 3)\n",
            "Labels shape: (482,)\n"
          ]
        }
      ]
    },
    {
      "cell_type": "code",
      "source": [
        "labels"
      ],
      "metadata": {
        "colab": {
          "base_uri": "https://localhost:8080/"
        },
        "id": "qHpsoSiErWbE",
        "outputId": "e5ad7ff5-3eaa-4eb0-b06d-674cd34d72db"
      },
      "execution_count": null,
      "outputs": [
        {
          "output_type": "execute_result",
          "data": {
            "text/plain": [
              "array(['vanakkam', 'appa', 'podhum', 'unavu', 'appa', 'nanri', 'podhum',\n",
              "       'udhavi', 'nanri', 'unavu', 'podhum', 'thungu', 'vanakkam',\n",
              "       'udhavi', 'vanakkam', 'unavu', 'amma ', 'medhuvaga', 'iravu',\n",
              "       'nanri', 'inru', 'thungu', 'udhavi', 'iravu', 'amma ', 'kudikka',\n",
              "       'unavu', 'kudikka', 'vanakkam', 'inru', 'unavu', 'amma ', 'amma ',\n",
              "       'appa', 'unavu', 'udhavi', 'udhavi', 'nanri', 'inru', 'nanri',\n",
              "       'udhavi', 'udhavi', 'unavu', 'udhavi', 'unavu', 'thungu', 'inru',\n",
              "       'vanakkam', 'appa', 'medhuvaga', 'iravu', 'inru', 'udhavi', 'inru',\n",
              "       'thungu', 'inru', 'thungu', 'podhum', 'appa', 'udhavi', 'amma ',\n",
              "       'amma ', 'inru', 'udhavi', 'thungu', 'appa', 'thungu', 'medhuvaga',\n",
              "       'unavu', 'nanri', 'nanri', 'iravu', 'unavu', 'kudikka', 'podhum',\n",
              "       'amma ', 'kudikka', 'kudikka', 'unavu', 'nanri', 'unavu', 'thungu',\n",
              "       'kudikka', 'unavu', 'iravu', 'udhavi', 'thungu', 'podhum',\n",
              "       'udhavi', 'amma ', 'podhum', 'inru', 'iravu', 'vanakkam', 'udhavi',\n",
              "       'thungu', 'podhum', 'iravu', 'inru', 'podhum', 'iravu', 'vanakkam',\n",
              "       'thungu', 'medhuvaga', 'amma ', 'vanakkam', 'podhum', 'udhavi',\n",
              "       'kudikka', 'inru', 'iravu', 'podhum', 'iravu', 'appa', 'udhavi',\n",
              "       'appa', 'unavu', 'thungu', 'nanri', 'unavu', 'thungu', 'nanri',\n",
              "       'unavu', 'nanri', 'unavu', 'medhuvaga', 'unavu', 'iravu', 'nanri',\n",
              "       'inru', 'appa', 'unavu', 'medhuvaga', 'amma ', 'iravu', 'udhavi',\n",
              "       'kudikka', 'udhavi', 'unavu', 'thungu', 'medhuvaga', 'udhavi',\n",
              "       'iravu', 'podhum', 'medhuvaga', 'iravu', 'inru', 'udhavi', 'amma ',\n",
              "       'nanri', 'medhuvaga', 'appa', 'nanri', 'thungu', 'udhavi', 'unavu',\n",
              "       'nanri', 'kudikka', 'appa', 'thungu', 'vanakkam', 'vanakkam',\n",
              "       'vanakkam', 'appa', 'amma ', 'amma ', 'iravu', 'unavu', 'podhum',\n",
              "       'thungu', 'medhuvaga', 'unavu', 'vanakkam', 'amma ', 'appa',\n",
              "       'kudikka', 'unavu', 'podhum', 'medhuvaga', 'iravu', 'inru', 'appa',\n",
              "       'iravu', 'inru', 'nanri', 'podhum', 'iravu', 'appa', 'appa',\n",
              "       'kudikka', 'vanakkam', 'vanakkam', 'unavu', 'amma ', 'appa',\n",
              "       'udhavi', 'udhavi', 'nanri', 'inru', 'medhuvaga', 'udhavi',\n",
              "       'thungu', 'udhavi', 'udhavi', 'unavu', 'thungu', 'iravu', 'amma ',\n",
              "       'udhavi', 'thungu', 'kudikka', 'inru', 'nanri', 'vanakkam',\n",
              "       'udhavi', 'inru', 'amma ', 'unavu', 'vanakkam', 'podhum', 'iravu',\n",
              "       'appa', 'unavu', 'kudikka', 'thungu', 'appa', 'podhum', 'udhavi',\n",
              "       'podhum', 'medhuvaga', 'medhuvaga', 'appa', 'appa', 'thungu',\n",
              "       'vanakkam', 'kudikka', 'podhum', 'medhuvaga', 'inru', 'medhuvaga',\n",
              "       'amma ', 'amma ', 'iravu', 'appa', 'thungu', 'medhuvaga',\n",
              "       'kudikka', 'iravu', 'nanri', 'inru', 'appa', 'vanakkam',\n",
              "       'medhuvaga', 'appa', 'iravu', 'unavu', 'udhavi', 'amma ', 'iravu',\n",
              "       'nanri', 'podhum', 'nanri', 'kudikka', 'appa', 'iravu', 'iravu',\n",
              "       'nanri', 'podhum', 'appa', 'podhum', 'medhuvaga', 'unavu',\n",
              "       'kudikka', 'kudikka', 'nanri', 'iravu', 'medhuvaga', 'thungu',\n",
              "       'vanakkam', 'nanri', 'iravu', 'inru', 'kudikka', 'podhum', 'amma ',\n",
              "       'kudikka', 'kudikka', 'medhuvaga', 'podhum', 'kudikka', 'podhum',\n",
              "       'podhum', 'appa', 'thungu', 'nanri', 'medhuvaga', 'kudikka',\n",
              "       'iravu', 'medhuvaga', 'vanakkam', 'appa', 'inru', 'thungu',\n",
              "       'amma ', 'iravu', 'nanri', 'kudikka', 'udhavi', 'medhuvaga',\n",
              "       'amma ', 'medhuvaga', 'nanri', 'appa', 'iravu', 'udhavi', 'appa',\n",
              "       'inru', 'iravu', 'kudikka', 'podhum', 'kudikka', 'amma ', 'inru',\n",
              "       'udhavi', 'podhum', 'nanri', 'vanakkam', 'inru', 'vanakkam',\n",
              "       'kudikka', 'vanakkam', 'podhum', 'vanakkam', 'amma ', 'udhavi',\n",
              "       'udhavi', 'medhuvaga', 'vanakkam', 'podhum', 'vanakkam', 'amma ',\n",
              "       'inru', 'medhuvaga', 'medhuvaga', 'iravu', 'thungu', 'inru',\n",
              "       'kudikka', 'inru', 'appa', 'vanakkam', 'podhum', 'thungu',\n",
              "       'vanakkam', 'udhavi', 'iravu', 'medhuvaga', 'iravu', 'medhuvaga',\n",
              "       'udhavi', 'kudikka', 'unavu', 'nanri', 'vanakkam', 'medhuvaga',\n",
              "       'appa', 'amma ', 'podhum', 'inru', 'vanakkam', 'appa', 'iravu',\n",
              "       'appa', 'inru', 'vanakkam', 'kudikka', 'unavu', 'vanakkam',\n",
              "       'unavu', 'vanakkam', 'amma ', 'kudikka', 'amma ', 'podhum',\n",
              "       'iravu', 'thungu', 'vanakkam', 'medhuvaga', 'nanri', 'thungu',\n",
              "       'medhuvaga', 'podhum', 'appa', 'appa', 'unavu', 'medhuvaga',\n",
              "       'inru', 'nanri', 'thungu', 'appa', 'thungu', 'appa', 'nanri',\n",
              "       'nanri', 'thungu', 'thungu', 'kudikka', 'inru', 'vanakkam',\n",
              "       'medhuvaga', 'inru', 'inru', 'nanri', 'udhavi', 'inru',\n",
              "       'medhuvaga', 'inru', 'vanakkam', 'kudikka', 'unavu', 'unavu',\n",
              "       'kudikka', 'amma ', 'nanri', 'thungu', 'inru', 'udhavi', 'thungu',\n",
              "       'medhuvaga', 'amma ', 'podhum', 'podhum', 'inru', 'amma ',\n",
              "       'kudikka', 'iravu', 'medhuvaga', 'vanakkam', 'thungu', 'amma ',\n",
              "       'unavu', 'appa', 'nanri', 'amma ', 'iravu', 'nanri', 'udhavi',\n",
              "       'amma ', 'thungu', 'podhum', 'medhuvaga', 'vanakkam', 'podhum',\n",
              "       'amma ', 'kudikka', 'nanri', 'unavu', 'vanakkam', 'kudikka',\n",
              "       'iravu', 'podhum', 'medhuvaga', 'vanakkam', 'nanri', 'amma ',\n",
              "       'nanri', 'kudikka', 'amma ', 'podhum', 'kudikka', 'udhavi',\n",
              "       'thungu', 'thungu', 'kudikka', 'thungu', 'appa', 'amma ',\n",
              "       'vanakkam', 'inru', 'unavu', 'inru', 'unavu'], dtype='<U9')"
            ]
          },
          "metadata": {},
          "execution_count": 7
        }
      ]
    },
    {
      "cell_type": "code",
      "source": [
        "words = list(set(list(labels)))\n",
        "words.sort()\n",
        "print(words)"
      ],
      "metadata": {
        "colab": {
          "base_uri": "https://localhost:8080/"
        },
        "id": "9YMSJQ8JrXq0",
        "outputId": "5a897b2d-060d-4ab9-c000-226a80c967d7"
      },
      "execution_count": null,
      "outputs": [
        {
          "output_type": "stream",
          "name": "stdout",
          "text": [
            "['amma ', 'appa', 'inru', 'iravu', 'kudikka', 'medhuvaga', 'nanri', 'podhum', 'thungu', 'udhavi', 'unavu', 'vanakkam']\n"
          ]
        }
      ]
    },
    {
      "cell_type": "code",
      "source": [
        "label_dict = dict()\n",
        "for i,j in enumerate(words):\n",
        "    label_dict[i]=j\n",
        "    print(label_dict[i],i)"
      ],
      "metadata": {
        "colab": {
          "base_uri": "https://localhost:8080/"
        },
        "id": "jyvAVUJhrY9y",
        "outputId": "03da3421-585c-42d6-cebe-3fb99a55dd90"
      },
      "execution_count": null,
      "outputs": [
        {
          "output_type": "stream",
          "name": "stdout",
          "text": [
            "amma  0\n",
            "appa 1\n",
            "inru 2\n",
            "iravu 3\n",
            "kudikka 4\n",
            "medhuvaga 5\n",
            "nanri 6\n",
            "podhum 7\n",
            "thungu 8\n",
            "udhavi 9\n",
            "unavu 10\n",
            "vanakkam 11\n"
          ]
        }
      ]
    },
    {
      "cell_type": "code",
      "source": [
        "print(label_dict)"
      ],
      "metadata": {
        "colab": {
          "base_uri": "https://localhost:8080/"
        },
        "id": "0Go1y-2oraJo",
        "outputId": "4f79374a-138e-4a8c-8974-26d614829eea"
      },
      "execution_count": null,
      "outputs": [
        {
          "output_type": "stream",
          "name": "stdout",
          "text": [
            "{0: 'amma ', 1: 'appa', 2: 'inru', 3: 'iravu', 4: 'kudikka', 5: 'medhuvaga', 6: 'nanri', 7: 'podhum', 8: 'thungu', 9: 'udhavi', 10: 'unavu', 11: 'vanakkam'}\n"
          ]
        }
      ]
    },
    {
      "cell_type": "code",
      "source": [
        "encoder = LabelEncoder()\n",
        "encoder.fit(labels)\n",
        "encoded_labels = encoder.transform(labels)\n",
        "labels = encoded_labels"
      ],
      "metadata": {
        "id": "wf5i633prcao"
      },
      "execution_count": null,
      "outputs": []
    },
    {
      "cell_type": "code",
      "source": [
        "X_train, X_test, y_train, y_test = train_test_split(videos, labels, test_size=0.2, random_state=42)\n",
        "\n",
        "print(\"Training set shape:\", X_train.shape, y_train.shape)\n",
        "print(\"Test set shape:\", X_test.shape, y_test.shape)"
      ],
      "metadata": {
        "colab": {
          "base_uri": "https://localhost:8080/"
        },
        "id": "qe0jOJ9erdw2",
        "outputId": "484f8e67-b5a2-4178-d9cd-02b6a92afbae"
      },
      "execution_count": null,
      "outputs": [
        {
          "output_type": "stream",
          "name": "stdout",
          "text": [
            "Training set shape: (385, 22, 80, 112, 3) (385,)\n",
            "Test set shape: (97, 22, 80, 112, 3) (97,)\n"
          ]
        }
      ]
    },
    {
      "cell_type": "code",
      "source": [
        "gc.collect()\n",
        "!cat /proc/meminfo | grep Mem"
      ],
      "metadata": {
        "colab": {
          "base_uri": "https://localhost:8080/"
        },
        "id": "1u8ssiWirgnX",
        "outputId": "1c30256b-5bff-406d-a4cb-f9e8eb3dbec6"
      },
      "execution_count": null,
      "outputs": [
        {
          "output_type": "stream",
          "name": "stdout",
          "text": [
            "MemTotal:       87532096 kB\n",
            "MemFree:        72992956 kB\n",
            "MemAvailable:   80723608 kB\n"
          ]
        }
      ]
    },
    {
      "cell_type": "code",
      "source": [
        "tf.keras.backend.clear_session()"
      ],
      "metadata": {
        "id": "Dqfkz5UgriIz"
      },
      "execution_count": null,
      "outputs": []
    },
    {
      "cell_type": "code",
      "source": [
        "from tensorflow.keras.models import Sequential\n",
        "from tensorflow.keras.layers import Conv3D, MaxPooling3D, Flatten, Dense, BatchNormalization, Dropout, LSTM, Reshape,Bidirectional\n",
        "from tensorflow.keras import regularizers\n",
        "\n",
        "input_shape = (22, 80, 112, 3)\n",
        "\n",
        "model = Sequential()\n",
        "\n",
        "# Convolutional layers with Batch Normalization and Dropout\n",
        "model.add(Conv3D(16, (3, 3, 3), activation='relu', input_shape=input_shape, kernel_regularizer=regularizers.l2(0.001)))\n",
        "model.add(BatchNormalization())\n",
        "model.add(MaxPooling3D((2, 2, 2)))\n",
        "model.add(Dropout(0.25))\n",
        "\n",
        "model.add(Conv3D(32, (3, 3, 3), activation='relu', kernel_regularizer=regularizers.l2(0.001)))\n",
        "model.add(BatchNormalization())\n",
        "model.add(MaxPooling3D((2, 2, 2)))\n",
        "model.add(Dropout(0.25))\n",
        "\n",
        "model.add(Conv3D(64, (3, 3, 3), activation='relu', kernel_regularizer=regularizers.l2(0.001)))\n",
        "model.add(BatchNormalization())\n",
        "model.add(MaxPooling3D((2, 2, 2)))\n",
        "model.add(Dropout(0.25))\n",
        "\n",
        "# Reshape to fit LSTM input requirements\n",
        "model.add(Reshape((-1, 64)))\n",
        "\n",
        "# Recurrent Layer (LSTM)\n",
        "model.add(Bidirectional(LSTM(64, return_sequences=True)))\n",
        "model.add(Bidirectional(LSTM(32)))\n",
        "\n",
        "# Dense layers with Dropout\n",
        "model.add(Dense(512, activation='relu', kernel_regularizer=regularizers.l2(0.001)))\n",
        "model.add(Dropout(0.3))\n",
        "\n",
        "model.add(Dense(256, activation='relu', kernel_regularizer=regularizers.l2(0.001)))\n",
        "model.add(Dropout(0.3))\n",
        "\n",
        "model.add(Dense(128, activation='relu', kernel_regularizer=regularizers.l2(0.001)))\n",
        "model.add(Dropout(0.3))\n",
        "\n",
        "# Output layer\n",
        "model.add(Dense(12, activation='softmax'))\n",
        "\n",
        "\n",
        "# Compile the model\n",
        "model.compile(optimizer='adam', loss='categorical_crossentropy', metrics=['accuracy'])\n",
        "\n",
        "# Convert the target labels to one-hot encoding\n",
        "y_train_onehot = tf.keras.utils.to_categorical(y_train)\n",
        "y_test_onehot = tf.keras.utils.to_categorical(y_test)\n",
        "model.summary()"
      ],
      "metadata": {
        "colab": {
          "base_uri": "https://localhost:8080/"
        },
        "id": "iTZmSXa7ripR",
        "outputId": "1f9685aa-448b-46e7-9ce2-4ffb6f016199"
      },
      "execution_count": null,
      "outputs": [
        {
          "output_type": "stream",
          "name": "stdout",
          "text": [
            "Model: \"sequential_1\"\n",
            "_________________________________________________________________\n",
            " Layer (type)                Output Shape              Param #   \n",
            "=================================================================\n",
            " conv3d_3 (Conv3D)           (None, 20, 78, 110, 16)   1312      \n",
            "                                                                 \n",
            " batch_normalization_3 (Bat  (None, 20, 78, 110, 16)   64        \n",
            " chNormalization)                                                \n",
            "                                                                 \n",
            " max_pooling3d_3 (MaxPoolin  (None, 10, 39, 55, 16)    0         \n",
            " g3D)                                                            \n",
            "                                                                 \n",
            " dropout_6 (Dropout)         (None, 10, 39, 55, 16)    0         \n",
            "                                                                 \n",
            " conv3d_4 (Conv3D)           (None, 8, 37, 53, 32)     13856     \n",
            "                                                                 \n",
            " batch_normalization_4 (Bat  (None, 8, 37, 53, 32)     128       \n",
            " chNormalization)                                                \n",
            "                                                                 \n",
            " max_pooling3d_4 (MaxPoolin  (None, 4, 18, 26, 32)     0         \n",
            " g3D)                                                            \n",
            "                                                                 \n",
            " dropout_7 (Dropout)         (None, 4, 18, 26, 32)     0         \n",
            "                                                                 \n",
            " conv3d_5 (Conv3D)           (None, 2, 16, 24, 64)     55360     \n",
            "                                                                 \n",
            " batch_normalization_5 (Bat  (None, 2, 16, 24, 64)     256       \n",
            " chNormalization)                                                \n",
            "                                                                 \n",
            " max_pooling3d_5 (MaxPoolin  (None, 1, 8, 12, 64)      0         \n",
            " g3D)                                                            \n",
            "                                                                 \n",
            " dropout_8 (Dropout)         (None, 1, 8, 12, 64)      0         \n",
            "                                                                 \n",
            " reshape_1 (Reshape)         (None, 96, 64)            0         \n",
            "                                                                 \n",
            " bidirectional_2 (Bidirecti  (None, 96, 128)           66048     \n",
            " onal)                                                           \n",
            "                                                                 \n",
            " bidirectional_3 (Bidirecti  (None, 64)                41216     \n",
            " onal)                                                           \n",
            "                                                                 \n",
            " dense_4 (Dense)             (None, 512)               33280     \n",
            "                                                                 \n",
            " dropout_9 (Dropout)         (None, 512)               0         \n",
            "                                                                 \n",
            " dense_5 (Dense)             (None, 256)               131328    \n",
            "                                                                 \n",
            " dropout_10 (Dropout)        (None, 256)               0         \n",
            "                                                                 \n",
            " dense_6 (Dense)             (None, 128)               32896     \n",
            "                                                                 \n",
            " dropout_11 (Dropout)        (None, 128)               0         \n",
            "                                                                 \n",
            " dense_7 (Dense)             (None, 12)                1548      \n",
            "                                                                 \n",
            "=================================================================\n",
            "Total params: 377292 (1.44 MB)\n",
            "Trainable params: 377068 (1.44 MB)\n",
            "Non-trainable params: 224 (896.00 Byte)\n",
            "_________________________________________________________________\n"
          ]
        }
      ]
    },
    {
      "cell_type": "code",
      "source": [
        "from tensorflow.keras.callbacks import ModelCheckpoint, EarlyStopping\n",
        "\n",
        "best_weights_path = 'model_weights-tamil.h5'\n",
        "# Define the ModelCheckpoint callback to save the best weights\n",
        "checkpoint = ModelCheckpoint(best_weights_path, monitor='val_accuracy', save_best_only=True, mode='max', verbose=1)\n",
        "\n",
        "# Define the EarlyStopping callback to stop training if val_accuracy doesn't improve for patience number of epochs\n",
        "early_stopping = EarlyStopping(monitor='val_accuracy', patience=10, mode='max', verbose=1)"
      ],
      "metadata": {
        "id": "18gRrnmAsWUI"
      },
      "execution_count": null,
      "outputs": []
    },
    {
      "cell_type": "code",
      "source": [
        "# Train the model and record the history of training\n",
        "history = model.fit(X_train, y_train_onehot, epochs=150  ,validation_data=(X_test, y_test_onehot),callbacks=[checkpoint])"
      ],
      "metadata": {
        "colab": {
          "base_uri": "https://localhost:8080/"
        },
        "id": "sVdgjLqXrsVr",
        "outputId": "93967349-41f0-4685-b3cb-1e403aefafde"
      },
      "execution_count": null,
      "outputs": [
        {
          "output_type": "stream",
          "name": "stdout",
          "text": [
            "Epoch 1/150\n",
            "12/13 [==========================>...] - ETA: 0s - loss: 0.6094 - accuracy: 0.9557\n",
            "Epoch 1: val_accuracy did not improve from 0.84536\n",
            "13/13 [==============================] - 2s 168ms/step - loss: 0.6113 - accuracy: 0.9532 - val_loss: 1.8810 - val_accuracy: 0.6082\n",
            "Epoch 2/150\n",
            "12/13 [==========================>...] - ETA: 0s - loss: 1.0854 - accuracy: 0.8255\n",
            "Epoch 2: val_accuracy did not improve from 0.84536\n",
            "13/13 [==============================] - 1s 97ms/step - loss: 1.0840 - accuracy: 0.8260 - val_loss: 2.6432 - val_accuracy: 0.3814\n",
            "Epoch 3/150\n",
            "12/13 [==========================>...] - ETA: 0s - loss: 0.8210 - accuracy: 0.8828\n",
            "Epoch 3: val_accuracy did not improve from 0.84536\n",
            "13/13 [==============================] - 1s 94ms/step - loss: 0.8238 - accuracy: 0.8805 - val_loss: 3.6013 - val_accuracy: 0.3608\n",
            "Epoch 4/150\n",
            "12/13 [==========================>...] - ETA: 0s - loss: 0.8016 - accuracy: 0.8724\n",
            "Epoch 4: val_accuracy did not improve from 0.84536\n",
            "13/13 [==============================] - 1s 101ms/step - loss: 0.8054 - accuracy: 0.8701 - val_loss: 2.9357 - val_accuracy: 0.4433\n",
            "Epoch 5/150\n",
            "12/13 [==========================>...] - ETA: 0s - loss: 0.8715 - accuracy: 0.8672\n",
            "Epoch 5: val_accuracy did not improve from 0.84536\n",
            "13/13 [==============================] - 1s 94ms/step - loss: 0.8723 - accuracy: 0.8675 - val_loss: 2.4242 - val_accuracy: 0.4536\n",
            "Epoch 6/150\n",
            "12/13 [==========================>...] - ETA: 0s - loss: 1.0750 - accuracy: 0.8464\n",
            "Epoch 6: val_accuracy did not improve from 0.84536\n",
            "13/13 [==============================] - 1s 94ms/step - loss: 1.0748 - accuracy: 0.8468 - val_loss: 5.1877 - val_accuracy: 0.1649\n",
            "Epoch 7/150\n",
            "12/13 [==========================>...] - ETA: 0s - loss: 0.8116 - accuracy: 0.8854\n",
            "Epoch 7: val_accuracy did not improve from 0.84536\n",
            "13/13 [==============================] - 1s 94ms/step - loss: 0.8107 - accuracy: 0.8857 - val_loss: 3.9460 - val_accuracy: 0.2371\n",
            "Epoch 8/150\n",
            "12/13 [==========================>...] - ETA: 0s - loss: 0.6812 - accuracy: 0.9245\n",
            "Epoch 8: val_accuracy did not improve from 0.84536\n",
            "13/13 [==============================] - 1s 94ms/step - loss: 0.6806 - accuracy: 0.9247 - val_loss: 2.1152 - val_accuracy: 0.5567\n",
            "Epoch 9/150\n",
            "12/13 [==========================>...] - ETA: 0s - loss: 0.6085 - accuracy: 0.9583\n",
            "Epoch 9: val_accuracy did not improve from 0.84536\n",
            "13/13 [==============================] - 1s 96ms/step - loss: 0.6081 - accuracy: 0.9584 - val_loss: 1.5651 - val_accuracy: 0.6701\n",
            "Epoch 10/150\n",
            "12/13 [==========================>...] - ETA: 0s - loss: 0.5517 - accuracy: 0.9792\n",
            "Epoch 10: val_accuracy did not improve from 0.84536\n",
            "13/13 [==============================] - 1s 95ms/step - loss: 0.5515 - accuracy: 0.9792 - val_loss: 1.7481 - val_accuracy: 0.6701\n",
            "Epoch 11/150\n",
            "12/13 [==========================>...] - ETA: 0s - loss: 0.5254 - accuracy: 0.9792\n",
            "Epoch 11: val_accuracy did not improve from 0.84536\n",
            "13/13 [==============================] - 1s 96ms/step - loss: 0.5285 - accuracy: 0.9766 - val_loss: 2.3404 - val_accuracy: 0.5361\n",
            "Epoch 12/150\n",
            "12/13 [==========================>...] - ETA: 0s - loss: 1.0241 - accuracy: 0.8411\n",
            "Epoch 12: val_accuracy did not improve from 0.84536\n",
            "13/13 [==============================] - 1s 96ms/step - loss: 1.0227 - accuracy: 0.8416 - val_loss: 3.4545 - val_accuracy: 0.2165\n",
            "Epoch 13/150\n",
            "12/13 [==========================>...] - ETA: 0s - loss: 0.8018 - accuracy: 0.8776\n",
            "Epoch 13: val_accuracy did not improve from 0.84536\n",
            "13/13 [==============================] - 1s 100ms/step - loss: 0.8041 - accuracy: 0.8753 - val_loss: 4.3156 - val_accuracy: 0.1959\n",
            "Epoch 14/150\n",
            "12/13 [==========================>...] - ETA: 0s - loss: 1.3564 - accuracy: 0.8021\n",
            "Epoch 14: val_accuracy did not improve from 0.84536\n",
            "13/13 [==============================] - 1s 96ms/step - loss: 1.3578 - accuracy: 0.8000 - val_loss: 4.9642 - val_accuracy: 0.1237\n",
            "Epoch 15/150\n",
            "12/13 [==========================>...] - ETA: 0s - loss: 1.2891 - accuracy: 0.7318\n",
            "Epoch 15: val_accuracy did not improve from 0.84536\n",
            "13/13 [==============================] - 1s 94ms/step - loss: 1.2924 - accuracy: 0.7299 - val_loss: 2.6993 - val_accuracy: 0.3711\n",
            "Epoch 16/150\n",
            "12/13 [==========================>...] - ETA: 0s - loss: 0.9466 - accuracy: 0.8333\n",
            "Epoch 16: val_accuracy did not improve from 0.84536\n",
            "13/13 [==============================] - 1s 94ms/step - loss: 0.9453 - accuracy: 0.8338 - val_loss: 2.1768 - val_accuracy: 0.5052\n",
            "Epoch 17/150\n",
            "12/13 [==========================>...] - ETA: 0s - loss: 0.8256 - accuracy: 0.8802\n",
            "Epoch 17: val_accuracy did not improve from 0.84536\n",
            "13/13 [==============================] - 1s 94ms/step - loss: 0.8246 - accuracy: 0.8805 - val_loss: 1.2412 - val_accuracy: 0.7732\n",
            "Epoch 18/150\n",
            "12/13 [==========================>...] - ETA: 0s - loss: 0.7307 - accuracy: 0.9062\n",
            "Epoch 18: val_accuracy did not improve from 0.84536\n",
            "13/13 [==============================] - 1s 95ms/step - loss: 0.7300 - accuracy: 0.9065 - val_loss: 1.4795 - val_accuracy: 0.6598\n",
            "Epoch 19/150\n",
            "12/13 [==========================>...] - ETA: 0s - loss: 0.6828 - accuracy: 0.9323\n",
            "Epoch 19: val_accuracy did not improve from 0.84536\n",
            "13/13 [==============================] - 1s 94ms/step - loss: 0.6822 - accuracy: 0.9325 - val_loss: 1.0823 - val_accuracy: 0.8041\n",
            "Epoch 20/150\n",
            "12/13 [==========================>...] - ETA: 0s - loss: 0.6257 - accuracy: 0.9427\n",
            "Epoch 20: val_accuracy did not improve from 0.84536\n",
            "13/13 [==============================] - 1s 97ms/step - loss: 0.6311 - accuracy: 0.9403 - val_loss: 2.2315 - val_accuracy: 0.3814\n",
            "Epoch 21/150\n",
            "12/13 [==========================>...] - ETA: 0s - loss: 0.8463 - accuracy: 0.8880\n",
            "Epoch 21: val_accuracy did not improve from 0.84536\n",
            "13/13 [==============================] - 1s 95ms/step - loss: 0.8453 - accuracy: 0.8883 - val_loss: 2.0639 - val_accuracy: 0.6082\n",
            "Epoch 22/150\n",
            "12/13 [==========================>...] - ETA: 0s - loss: 0.6482 - accuracy: 0.9245\n",
            "Epoch 22: val_accuracy did not improve from 0.84536\n",
            "13/13 [==============================] - 1s 97ms/step - loss: 0.6502 - accuracy: 0.9221 - val_loss: 1.3807 - val_accuracy: 0.7320\n",
            "Epoch 23/150\n",
            "12/13 [==========================>...] - ETA: 0s - loss: 0.7187 - accuracy: 0.9115\n",
            "Epoch 23: val_accuracy did not improve from 0.84536\n",
            "13/13 [==============================] - 1s 99ms/step - loss: 0.7183 - accuracy: 0.9117 - val_loss: 1.0394 - val_accuracy: 0.8144\n",
            "Epoch 24/150\n",
            "12/13 [==========================>...] - ETA: 0s - loss: 0.5963 - accuracy: 0.9531\n",
            "Epoch 24: val_accuracy did not improve from 0.84536\n",
            "13/13 [==============================] - 1s 96ms/step - loss: 0.5959 - accuracy: 0.9532 - val_loss: 1.5413 - val_accuracy: 0.7216\n",
            "Epoch 25/150\n",
            "12/13 [==========================>...] - ETA: 0s - loss: 0.5789 - accuracy: 0.9557\n",
            "Epoch 25: val_accuracy improved from 0.84536 to 0.87629, saving model to model_weights-tamil.h5\n",
            "13/13 [==============================] - 1s 105ms/step - loss: 0.5791 - accuracy: 0.9558 - val_loss: 0.7938 - val_accuracy: 0.8763\n",
            "Epoch 26/150\n",
            " 1/13 [=>............................] - ETA: 0s - loss: 0.4693 - accuracy: 1.0000"
          ]
        },
        {
          "output_type": "stream",
          "name": "stderr",
          "text": [
            "/usr/local/lib/python3.10/dist-packages/keras/src/engine/training.py:3103: UserWarning: You are saving your model as an HDF5 file via `model.save()`. This file format is considered legacy. We recommend using instead the native Keras format, e.g. `model.save('my_model.keras')`.\n",
            "  saving_api.save_model(\n"
          ]
        },
        {
          "output_type": "stream",
          "name": "stdout",
          "text": [
            "12/13 [==========================>...] - ETA: 0s - loss: 0.5336 - accuracy: 0.9714\n",
            "Epoch 26: val_accuracy did not improve from 0.87629\n",
            "13/13 [==============================] - 1s 96ms/step - loss: 0.5446 - accuracy: 0.9688 - val_loss: 0.8851 - val_accuracy: 0.8660\n",
            "Epoch 27/150\n",
            "12/13 [==========================>...] - ETA: 0s - loss: 0.7250 - accuracy: 0.9193\n",
            "Epoch 27: val_accuracy did not improve from 0.87629\n",
            "13/13 [==============================] - 1s 94ms/step - loss: 0.7249 - accuracy: 0.9195 - val_loss: 1.8912 - val_accuracy: 0.6082\n",
            "Epoch 28/150\n",
            "12/13 [==========================>...] - ETA: 0s - loss: 0.7545 - accuracy: 0.9245\n",
            "Epoch 28: val_accuracy did not improve from 0.87629\n",
            "13/13 [==============================] - 1s 97ms/step - loss: 0.7537 - accuracy: 0.9247 - val_loss: 3.3425 - val_accuracy: 0.2680\n",
            "Epoch 29/150\n",
            "12/13 [==========================>...] - ETA: 0s - loss: 0.6136 - accuracy: 0.9453\n",
            "Epoch 29: val_accuracy did not improve from 0.87629\n",
            "13/13 [==============================] - 1s 97ms/step - loss: 0.6133 - accuracy: 0.9455 - val_loss: 3.8096 - val_accuracy: 0.1959\n",
            "Epoch 30/150\n",
            "12/13 [==========================>...] - ETA: 0s - loss: 0.5437 - accuracy: 0.9661\n",
            "Epoch 30: val_accuracy did not improve from 0.87629\n",
            "13/13 [==============================] - 1s 95ms/step - loss: 0.5435 - accuracy: 0.9662 - val_loss: 3.4536 - val_accuracy: 0.2371\n",
            "Epoch 31/150\n",
            "12/13 [==========================>...] - ETA: 0s - loss: 0.5428 - accuracy: 0.9661\n",
            "Epoch 31: val_accuracy did not improve from 0.87629\n",
            "13/13 [==============================] - 1s 97ms/step - loss: 0.5425 - accuracy: 0.9662 - val_loss: 2.9937 - val_accuracy: 0.3814\n",
            "Epoch 32/150\n",
            "12/13 [==========================>...] - ETA: 0s - loss: 0.5005 - accuracy: 0.9792\n",
            "Epoch 32: val_accuracy did not improve from 0.87629\n",
            "13/13 [==============================] - 1s 100ms/step - loss: 0.5003 - accuracy: 0.9792 - val_loss: 2.8611 - val_accuracy: 0.3918\n",
            "Epoch 33/150\n",
            "12/13 [==========================>...] - ETA: 0s - loss: 0.4670 - accuracy: 0.9922\n",
            "Epoch 33: val_accuracy did not improve from 0.87629\n",
            "13/13 [==============================] - 1s 97ms/step - loss: 0.4670 - accuracy: 0.9922 - val_loss: 3.4558 - val_accuracy: 0.2990\n",
            "Epoch 34/150\n",
            "12/13 [==========================>...] - ETA: 0s - loss: 0.4682 - accuracy: 0.9844\n",
            "Epoch 34: val_accuracy did not improve from 0.87629\n",
            "13/13 [==============================] - 1s 95ms/step - loss: 0.4682 - accuracy: 0.9844 - val_loss: 3.1178 - val_accuracy: 0.4021\n",
            "Epoch 35/150\n",
            "12/13 [==========================>...] - ETA: 0s - loss: 0.4503 - accuracy: 0.9896\n",
            "Epoch 35: val_accuracy did not improve from 0.87629\n",
            "13/13 [==============================] - 1s 96ms/step - loss: 0.4502 - accuracy: 0.9896 - val_loss: 3.3316 - val_accuracy: 0.3505\n",
            "Epoch 36/150\n",
            "12/13 [==========================>...] - ETA: 0s - loss: 0.4626 - accuracy: 0.9818\n",
            "Epoch 36: val_accuracy did not improve from 0.87629\n",
            "13/13 [==============================] - 1s 95ms/step - loss: 0.4685 - accuracy: 0.9792 - val_loss: 2.4407 - val_accuracy: 0.4845\n",
            "Epoch 37/150\n",
            "12/13 [==========================>...] - ETA: 0s - loss: 0.7380 - accuracy: 0.8932\n",
            "Epoch 37: val_accuracy did not improve from 0.87629\n",
            "13/13 [==============================] - 1s 96ms/step - loss: 0.7372 - accuracy: 0.8935 - val_loss: 1.5991 - val_accuracy: 0.6598\n",
            "Epoch 38/150\n",
            "12/13 [==========================>...] - ETA: 0s - loss: 0.6111 - accuracy: 0.9453\n",
            "Epoch 38: val_accuracy did not improve from 0.87629\n",
            "13/13 [==============================] - 1s 96ms/step - loss: 0.6106 - accuracy: 0.9455 - val_loss: 1.6140 - val_accuracy: 0.6495\n",
            "Epoch 39/150\n",
            "12/13 [==========================>...] - ETA: 0s - loss: 0.5758 - accuracy: 0.9505\n",
            "Epoch 39: val_accuracy did not improve from 0.87629\n",
            "13/13 [==============================] - 1s 96ms/step - loss: 0.5807 - accuracy: 0.9481 - val_loss: 1.3474 - val_accuracy: 0.7526\n",
            "Epoch 40/150\n",
            "12/13 [==========================>...] - ETA: 0s - loss: 0.5721 - accuracy: 0.9401\n",
            "Epoch 40: val_accuracy improved from 0.87629 to 0.92784, saving model to model_weights-tamil.h5\n",
            "13/13 [==============================] - 1s 105ms/step - loss: 0.5717 - accuracy: 0.9403 - val_loss: 0.7161 - val_accuracy: 0.9278\n",
            "Epoch 41/150\n",
            "12/13 [==========================>...] - ETA: 0s - loss: 0.5379 - accuracy: 0.9583\n",
            "Epoch 41: val_accuracy did not improve from 0.92784\n",
            "13/13 [==============================] - 1s 96ms/step - loss: 0.5377 - accuracy: 0.9584 - val_loss: 0.8844 - val_accuracy: 0.9072\n",
            "Epoch 42/150\n",
            "12/13 [==========================>...] - ETA: 0s - loss: 0.4944 - accuracy: 0.9740\n",
            "Epoch 42: val_accuracy did not improve from 0.92784\n",
            "13/13 [==============================] - 1s 97ms/step - loss: 0.4979 - accuracy: 0.9714 - val_loss: 0.8209 - val_accuracy: 0.9072\n",
            "Epoch 43/150\n",
            "12/13 [==========================>...] - ETA: 0s - loss: 0.6740 - accuracy: 0.9193\n",
            "Epoch 43: val_accuracy did not improve from 0.92784\n",
            "13/13 [==============================] - 1s 96ms/step - loss: 0.6734 - accuracy: 0.9195 - val_loss: 2.0487 - val_accuracy: 0.6598\n",
            "Epoch 44/150\n",
            "12/13 [==========================>...] - ETA: 0s - loss: 0.6541 - accuracy: 0.9479\n",
            "Epoch 44: val_accuracy did not improve from 0.92784\n",
            "13/13 [==============================] - 1s 94ms/step - loss: 0.6534 - accuracy: 0.9481 - val_loss: 3.6747 - val_accuracy: 0.3918\n",
            "Epoch 45/150\n",
            "12/13 [==========================>...] - ETA: 0s - loss: 0.5499 - accuracy: 0.9583\n",
            "Epoch 45: val_accuracy did not improve from 0.92784\n",
            "13/13 [==============================] - 1s 97ms/step - loss: 0.5499 - accuracy: 0.9584 - val_loss: 3.8392 - val_accuracy: 0.4124\n",
            "Epoch 46/150\n",
            "12/13 [==========================>...] - ETA: 0s - loss: 0.5440 - accuracy: 0.9688\n",
            "Epoch 46: val_accuracy did not improve from 0.92784\n",
            "13/13 [==============================] - 1s 100ms/step - loss: 0.5518 - accuracy: 0.9662 - val_loss: 1.0212 - val_accuracy: 0.8557\n",
            "Epoch 47/150\n",
            "12/13 [==========================>...] - ETA: 0s - loss: 0.7064 - accuracy: 0.9297\n",
            "Epoch 47: val_accuracy did not improve from 0.92784\n",
            "13/13 [==============================] - 1s 95ms/step - loss: 0.7095 - accuracy: 0.9299 - val_loss: 1.0203 - val_accuracy: 0.7732\n",
            "Epoch 48/150\n",
            "12/13 [==========================>...] - ETA: 0s - loss: 0.7766 - accuracy: 0.9062\n",
            "Epoch 48: val_accuracy did not improve from 0.92784\n",
            "13/13 [==============================] - 1s 96ms/step - loss: 0.7759 - accuracy: 0.9065 - val_loss: 2.1372 - val_accuracy: 0.5876\n",
            "Epoch 49/150\n",
            "12/13 [==========================>...] - ETA: 0s - loss: 0.5591 - accuracy: 0.9557\n",
            "Epoch 49: val_accuracy did not improve from 0.92784\n",
            "13/13 [==============================] - 1s 96ms/step - loss: 0.5587 - accuracy: 0.9558 - val_loss: 1.6208 - val_accuracy: 0.6495\n",
            "Epoch 50/150\n",
            "12/13 [==========================>...] - ETA: 0s - loss: 0.5190 - accuracy: 0.9661\n",
            "Epoch 50: val_accuracy did not improve from 0.92784\n",
            "13/13 [==============================] - 1s 99ms/step - loss: 0.5188 - accuracy: 0.9662 - val_loss: 1.9988 - val_accuracy: 0.5979\n",
            "Epoch 51/150\n",
            "12/13 [==========================>...] - ETA: 0s - loss: 0.5041 - accuracy: 0.9766\n",
            "Epoch 51: val_accuracy did not improve from 0.92784\n",
            "13/13 [==============================] - 1s 98ms/step - loss: 0.5045 - accuracy: 0.9766 - val_loss: 1.9541 - val_accuracy: 0.5979\n",
            "Epoch 52/150\n",
            "12/13 [==========================>...] - ETA: 0s - loss: 0.4600 - accuracy: 0.9818\n",
            "Epoch 52: val_accuracy did not improve from 0.92784\n",
            "13/13 [==============================] - 1s 96ms/step - loss: 0.4713 - accuracy: 0.9792 - val_loss: 1.1972 - val_accuracy: 0.7938\n",
            "Epoch 53/150\n",
            "12/13 [==========================>...] - ETA: 0s - loss: 0.5093 - accuracy: 0.9688\n",
            "Epoch 53: val_accuracy did not improve from 0.92784\n",
            "13/13 [==============================] - 1s 99ms/step - loss: 0.5090 - accuracy: 0.9688 - val_loss: 1.3395 - val_accuracy: 0.7320\n",
            "Epoch 54/150\n",
            "12/13 [==========================>...] - ETA: 0s - loss: 0.5111 - accuracy: 0.9661\n",
            "Epoch 54: val_accuracy did not improve from 0.92784\n",
            "13/13 [==============================] - 1s 97ms/step - loss: 0.5108 - accuracy: 0.9662 - val_loss: 1.8494 - val_accuracy: 0.6392\n",
            "Epoch 55/150\n",
            "12/13 [==========================>...] - ETA: 0s - loss: 0.4514 - accuracy: 0.9818\n",
            "Epoch 55: val_accuracy did not improve from 0.92784\n",
            "13/13 [==============================] - 1s 97ms/step - loss: 0.4513 - accuracy: 0.9818 - val_loss: 1.7446 - val_accuracy: 0.6289\n",
            "Epoch 56/150\n",
            "12/13 [==========================>...] - ETA: 0s - loss: 0.4314 - accuracy: 0.9948\n",
            "Epoch 56: val_accuracy did not improve from 0.92784\n",
            "13/13 [==============================] - 1s 95ms/step - loss: 0.4315 - accuracy: 0.9948 - val_loss: 1.2671 - val_accuracy: 0.7835\n",
            "Epoch 57/150\n",
            "12/13 [==========================>...] - ETA: 0s - loss: 0.4391 - accuracy: 0.9844\n",
            "Epoch 57: val_accuracy did not improve from 0.92784\n",
            "13/13 [==============================] - 1s 94ms/step - loss: 0.4390 - accuracy: 0.9844 - val_loss: 1.0868 - val_accuracy: 0.8247\n",
            "Epoch 58/150\n",
            "12/13 [==========================>...] - ETA: 0s - loss: 0.4443 - accuracy: 0.9844\n",
            "Epoch 58: val_accuracy did not improve from 0.92784\n",
            "13/13 [==============================] - 1s 95ms/step - loss: 0.4444 - accuracy: 0.9844 - val_loss: 1.0870 - val_accuracy: 0.7938\n",
            "Epoch 59/150\n",
            "12/13 [==========================>...] - ETA: 0s - loss: 0.4231 - accuracy: 0.9896\n",
            "Epoch 59: val_accuracy did not improve from 0.92784\n",
            "13/13 [==============================] - 1s 96ms/step - loss: 0.4230 - accuracy: 0.9896 - val_loss: 1.1019 - val_accuracy: 0.8041\n",
            "Epoch 60/150\n",
            "12/13 [==========================>...] - ETA: 0s - loss: 0.4124 - accuracy: 0.9948\n",
            "Epoch 60: val_accuracy did not improve from 0.92784\n",
            "13/13 [==============================] - 1s 99ms/step - loss: 0.4124 - accuracy: 0.9948 - val_loss: 1.1570 - val_accuracy: 0.7938\n",
            "Epoch 61/150\n",
            "12/13 [==========================>...] - ETA: 0s - loss: 0.4158 - accuracy: 0.9896\n",
            "Epoch 61: val_accuracy did not improve from 0.92784\n",
            "13/13 [==============================] - 1s 96ms/step - loss: 0.4158 - accuracy: 0.9896 - val_loss: 1.2905 - val_accuracy: 0.7732\n",
            "Epoch 62/150\n",
            "12/13 [==========================>...] - ETA: 0s - loss: 0.4017 - accuracy: 0.9948\n",
            "Epoch 62: val_accuracy did not improve from 0.92784\n",
            "13/13 [==============================] - 1s 94ms/step - loss: 0.4019 - accuracy: 0.9948 - val_loss: 0.9713 - val_accuracy: 0.8557\n",
            "Epoch 63/150\n",
            "12/13 [==========================>...] - ETA: 0s - loss: 0.4127 - accuracy: 0.9896\n",
            "Epoch 63: val_accuracy did not improve from 0.92784\n",
            "13/13 [==============================] - 1s 96ms/step - loss: 0.4126 - accuracy: 0.9896 - val_loss: 0.7648 - val_accuracy: 0.9278\n",
            "Epoch 64/150\n",
            "12/13 [==========================>...] - ETA: 0s - loss: 0.4003 - accuracy: 0.9948\n",
            "Epoch 64: val_accuracy did not improve from 0.92784\n",
            "13/13 [==============================] - 1s 95ms/step - loss: 0.4003 - accuracy: 0.9948 - val_loss: 0.8384 - val_accuracy: 0.8969\n",
            "Epoch 65/150\n",
            "12/13 [==========================>...] - ETA: 0s - loss: 0.3923 - accuracy: 0.9974\n",
            "Epoch 65: val_accuracy did not improve from 0.92784\n",
            "13/13 [==============================] - 1s 95ms/step - loss: 0.4186 - accuracy: 0.9948 - val_loss: 2.9043 - val_accuracy: 0.5361\n",
            "Epoch 66/150\n",
            "12/13 [==========================>...] - ETA: 0s - loss: 1.2332 - accuracy: 0.8177\n",
            "Epoch 66: val_accuracy did not improve from 0.92784\n",
            "13/13 [==============================] - 1s 94ms/step - loss: 1.2310 - accuracy: 0.8182 - val_loss: 3.3480 - val_accuracy: 0.1340\n",
            "Epoch 67/150\n",
            "12/13 [==========================>...] - ETA: 0s - loss: 0.8306 - accuracy: 0.8359\n",
            "Epoch 67: val_accuracy did not improve from 0.92784\n",
            "13/13 [==============================] - 1s 96ms/step - loss: 0.8318 - accuracy: 0.8364 - val_loss: 2.9833 - val_accuracy: 0.1546\n",
            "Epoch 68/150\n",
            "12/13 [==========================>...] - ETA: 0s - loss: 0.6387 - accuracy: 0.9141\n",
            "Epoch 68: val_accuracy did not improve from 0.92784\n",
            "13/13 [==============================] - 1s 97ms/step - loss: 0.6380 - accuracy: 0.9143 - val_loss: 2.7578 - val_accuracy: 0.2680\n",
            "Epoch 69/150\n",
            "12/13 [==========================>...] - ETA: 0s - loss: 0.5334 - accuracy: 0.9479\n",
            "Epoch 69: val_accuracy did not improve from 0.92784\n",
            "13/13 [==============================] - 1s 97ms/step - loss: 0.5331 - accuracy: 0.9481 - val_loss: 2.5299 - val_accuracy: 0.4330\n",
            "Epoch 70/150\n",
            "12/13 [==========================>...] - ETA: 0s - loss: 0.4740 - accuracy: 0.9766\n",
            "Epoch 70: val_accuracy did not improve from 0.92784\n",
            "13/13 [==============================] - 1s 98ms/step - loss: 0.4738 - accuracy: 0.9766 - val_loss: 2.8551 - val_accuracy: 0.4124\n",
            "Epoch 71/150\n",
            "12/13 [==========================>...] - ETA: 0s - loss: 0.4761 - accuracy: 0.9844\n",
            "Epoch 71: val_accuracy did not improve from 0.92784\n",
            "13/13 [==============================] - 1s 95ms/step - loss: 0.4800 - accuracy: 0.9818 - val_loss: 5.2464 - val_accuracy: 0.2371\n",
            "Epoch 72/150\n",
            "12/13 [==========================>...] - ETA: 0s - loss: 0.6321 - accuracy: 0.9297\n",
            "Epoch 72: val_accuracy did not improve from 0.92784\n",
            "13/13 [==============================] - 1s 98ms/step - loss: 0.6314 - accuracy: 0.9299 - val_loss: 2.5626 - val_accuracy: 0.4536\n",
            "Epoch 73/150\n",
            "12/13 [==========================>...] - ETA: 0s - loss: 0.5580 - accuracy: 0.9505\n",
            "Epoch 73: val_accuracy did not improve from 0.92784\n",
            "13/13 [==============================] - 1s 97ms/step - loss: 0.5586 - accuracy: 0.9506 - val_loss: 4.1401 - val_accuracy: 0.2680\n",
            "Epoch 74/150\n",
            "12/13 [==========================>...] - ETA: 0s - loss: 0.5638 - accuracy: 0.9349\n",
            "Epoch 74: val_accuracy did not improve from 0.92784\n",
            "13/13 [==============================] - 1s 96ms/step - loss: 0.5635 - accuracy: 0.9351 - val_loss: 3.0356 - val_accuracy: 0.4021\n",
            "Epoch 75/150\n",
            "12/13 [==========================>...] - ETA: 0s - loss: 0.5006 - accuracy: 0.9609\n",
            "Epoch 75: val_accuracy did not improve from 0.92784\n",
            "13/13 [==============================] - 1s 98ms/step - loss: 0.5003 - accuracy: 0.9610 - val_loss: 3.4363 - val_accuracy: 0.4021\n",
            "Epoch 76/150\n",
            "12/13 [==========================>...] - ETA: 0s - loss: 0.5134 - accuracy: 0.9531\n",
            "Epoch 76: val_accuracy did not improve from 0.92784\n",
            "13/13 [==============================] - 1s 96ms/step - loss: 0.5130 - accuracy: 0.9532 - val_loss: 1.4674 - val_accuracy: 0.6804\n",
            "Epoch 77/150\n",
            "12/13 [==========================>...] - ETA: 0s - loss: 0.4467 - accuracy: 0.9766\n",
            "Epoch 77: val_accuracy did not improve from 0.92784\n",
            "13/13 [==============================] - 1s 98ms/step - loss: 0.4466 - accuracy: 0.9766 - val_loss: 1.4472 - val_accuracy: 0.5979\n",
            "Epoch 78/150\n",
            "12/13 [==========================>...] - ETA: 0s - loss: 0.4127 - accuracy: 0.9948\n",
            "Epoch 78: val_accuracy did not improve from 0.92784\n",
            "13/13 [==============================] - 1s 99ms/step - loss: 0.4127 - accuracy: 0.9948 - val_loss: 1.2012 - val_accuracy: 0.7113\n",
            "Epoch 79/150\n",
            "12/13 [==========================>...] - ETA: 0s - loss: 0.4088 - accuracy: 0.9922\n",
            "Epoch 79: val_accuracy did not improve from 0.92784\n",
            "13/13 [==============================] - 1s 98ms/step - loss: 0.4088 - accuracy: 0.9922 - val_loss: 1.3287 - val_accuracy: 0.7113\n",
            "Epoch 80/150\n",
            "12/13 [==========================>...] - ETA: 0s - loss: 0.4090 - accuracy: 0.9922\n",
            "Epoch 80: val_accuracy did not improve from 0.92784\n",
            "13/13 [==============================] - 1s 96ms/step - loss: 0.4089 - accuracy: 0.9922 - val_loss: 1.1264 - val_accuracy: 0.7732\n",
            "Epoch 81/150\n",
            "12/13 [==========================>...] - ETA: 0s - loss: 0.3905 - accuracy: 0.9974\n",
            "Epoch 81: val_accuracy did not improve from 0.92784\n",
            "13/13 [==============================] - 1s 96ms/step - loss: 0.3905 - accuracy: 0.9974 - val_loss: 0.9519 - val_accuracy: 0.8041\n",
            "Epoch 82/150\n",
            "12/13 [==========================>...] - ETA: 0s - loss: 0.4058 - accuracy: 0.9870\n",
            "Epoch 82: val_accuracy did not improve from 0.92784\n",
            "13/13 [==============================] - 1s 96ms/step - loss: 0.4057 - accuracy: 0.9870 - val_loss: 1.3192 - val_accuracy: 0.7320\n",
            "Epoch 83/150\n",
            "12/13 [==========================>...] - ETA: 0s - loss: 0.3888 - accuracy: 0.9922\n",
            "Epoch 83: val_accuracy did not improve from 0.92784\n",
            "13/13 [==============================] - 1s 99ms/step - loss: 0.3887 - accuracy: 0.9922 - val_loss: 1.4403 - val_accuracy: 0.7113\n",
            "Epoch 84/150\n",
            "12/13 [==========================>...] - ETA: 0s - loss: 0.3860 - accuracy: 0.9922\n",
            "Epoch 84: val_accuracy did not improve from 0.92784\n",
            "13/13 [==============================] - 1s 94ms/step - loss: 0.3859 - accuracy: 0.9922 - val_loss: 1.1800 - val_accuracy: 0.7835\n",
            "Epoch 85/150\n",
            "12/13 [==========================>...] - ETA: 0s - loss: 0.3769 - accuracy: 0.9974\n",
            "Epoch 85: val_accuracy did not improve from 0.92784\n",
            "13/13 [==============================] - 1s 97ms/step - loss: 0.3769 - accuracy: 0.9974 - val_loss: 1.2851 - val_accuracy: 0.7629\n",
            "Epoch 86/150\n",
            "12/13 [==========================>...] - ETA: 0s - loss: 0.3697 - accuracy: 1.0000\n",
            "Epoch 86: val_accuracy did not improve from 0.92784\n",
            "13/13 [==============================] - 1s 96ms/step - loss: 0.3697 - accuracy: 1.0000 - val_loss: 1.1053 - val_accuracy: 0.8041\n",
            "Epoch 87/150\n",
            "12/13 [==========================>...] - ETA: 0s - loss: 0.3702 - accuracy: 0.9974\n",
            "Epoch 87: val_accuracy did not improve from 0.92784\n",
            "13/13 [==============================] - 1s 95ms/step - loss: 0.3745 - accuracy: 0.9948 - val_loss: 1.4381 - val_accuracy: 0.7113\n",
            "Epoch 88/150\n",
            "12/13 [==========================>...] - ETA: 0s - loss: 0.7184 - accuracy: 0.8984\n",
            "Epoch 88: val_accuracy did not improve from 0.92784\n",
            "13/13 [==============================] - 1s 95ms/step - loss: 0.7196 - accuracy: 0.8987 - val_loss: 3.0099 - val_accuracy: 0.3505\n",
            "Epoch 89/150\n",
            "12/13 [==========================>...] - ETA: 0s - loss: 0.6776 - accuracy: 0.9089\n",
            "Epoch 89: val_accuracy did not improve from 0.92784\n",
            "13/13 [==============================] - 1s 99ms/step - loss: 0.6768 - accuracy: 0.9091 - val_loss: 4.2527 - val_accuracy: 0.4124\n",
            "Epoch 90/150\n",
            "12/13 [==========================>...] - ETA: 0s - loss: 0.5064 - accuracy: 0.9609\n",
            "Epoch 90: val_accuracy did not improve from 0.92784\n",
            "13/13 [==============================] - 1s 96ms/step - loss: 0.5061 - accuracy: 0.9610 - val_loss: 3.5219 - val_accuracy: 0.4227\n",
            "Epoch 91/150\n",
            "12/13 [==========================>...] - ETA: 0s - loss: 0.4472 - accuracy: 0.9661\n",
            "Epoch 91: val_accuracy did not improve from 0.92784\n",
            "13/13 [==============================] - 1s 98ms/step - loss: 0.4624 - accuracy: 0.9636 - val_loss: 1.9828 - val_accuracy: 0.6495\n",
            "Epoch 92/150\n",
            "12/13 [==========================>...] - ETA: 0s - loss: 0.9101 - accuracy: 0.8438\n",
            "Epoch 92: val_accuracy did not improve from 0.92784\n",
            "13/13 [==============================] - 1s 95ms/step - loss: 0.9087 - accuracy: 0.8442 - val_loss: 3.4487 - val_accuracy: 0.2268\n",
            "Epoch 93/150\n",
            "12/13 [==========================>...] - ETA: 0s - loss: 0.6717 - accuracy: 0.8958\n",
            "Epoch 93: val_accuracy did not improve from 0.92784\n",
            "13/13 [==============================] - 1s 98ms/step - loss: 0.6712 - accuracy: 0.8961 - val_loss: 2.8197 - val_accuracy: 0.2887\n",
            "Epoch 94/150\n",
            "12/13 [==========================>...] - ETA: 0s - loss: 0.5015 - accuracy: 0.9583\n",
            "Epoch 94: val_accuracy did not improve from 0.92784\n",
            "13/13 [==============================] - 1s 95ms/step - loss: 0.5012 - accuracy: 0.9584 - val_loss: 3.5261 - val_accuracy: 0.3608\n",
            "Epoch 95/150\n",
            "12/13 [==========================>...] - ETA: 0s - loss: 0.4826 - accuracy: 0.9714\n",
            "Epoch 95: val_accuracy did not improve from 0.92784\n",
            "13/13 [==============================] - 1s 95ms/step - loss: 0.4823 - accuracy: 0.9714 - val_loss: 4.7683 - val_accuracy: 0.2268\n",
            "Epoch 96/150\n",
            "12/13 [==========================>...] - ETA: 0s - loss: 0.4276 - accuracy: 0.9870\n",
            "Epoch 96: val_accuracy did not improve from 0.92784\n",
            "13/13 [==============================] - 1s 95ms/step - loss: 0.4274 - accuracy: 0.9870 - val_loss: 2.9057 - val_accuracy: 0.4433\n",
            "Epoch 97/150\n",
            "12/13 [==========================>...] - ETA: 0s - loss: 0.4439 - accuracy: 0.9766\n",
            "Epoch 97: val_accuracy did not improve from 0.92784\n",
            "13/13 [==============================] - 1s 97ms/step - loss: 0.4437 - accuracy: 0.9766 - val_loss: 1.3763 - val_accuracy: 0.7010\n",
            "Epoch 98/150\n",
            "12/13 [==========================>...] - ETA: 0s - loss: 0.4082 - accuracy: 0.9948\n",
            "Epoch 98: val_accuracy did not improve from 0.92784\n",
            "13/13 [==============================] - 1s 99ms/step - loss: 0.4324 - accuracy: 0.9922 - val_loss: 3.2501 - val_accuracy: 0.4639\n",
            "Epoch 99/150\n",
            "12/13 [==========================>...] - ETA: 0s - loss: 0.6564 - accuracy: 0.8854\n",
            "Epoch 99: val_accuracy did not improve from 0.92784\n",
            "13/13 [==============================] - 1s 96ms/step - loss: 0.6557 - accuracy: 0.8857 - val_loss: 4.2687 - val_accuracy: 0.2680\n",
            "Epoch 100/150\n",
            "12/13 [==========================>...] - ETA: 0s - loss: 0.5322 - accuracy: 0.9531\n",
            "Epoch 100: val_accuracy did not improve from 0.92784\n",
            "13/13 [==============================] - 1s 96ms/step - loss: 0.5360 - accuracy: 0.9506 - val_loss: 1.6489 - val_accuracy: 0.6392\n",
            "Epoch 101/150\n",
            "12/13 [==========================>...] - ETA: 0s - loss: 0.9648 - accuracy: 0.8724\n",
            "Epoch 101: val_accuracy did not improve from 0.92784\n",
            "13/13 [==============================] - 1s 94ms/step - loss: 0.9677 - accuracy: 0.8701 - val_loss: 2.8300 - val_accuracy: 0.4433\n",
            "Epoch 102/150\n",
            "12/13 [==========================>...] - ETA: 0s - loss: 0.7432 - accuracy: 0.8828\n",
            "Epoch 102: val_accuracy did not improve from 0.92784\n",
            "13/13 [==============================] - 1s 94ms/step - loss: 0.7568 - accuracy: 0.8805 - val_loss: 3.3902 - val_accuracy: 0.3093\n",
            "Epoch 103/150\n",
            "12/13 [==========================>...] - ETA: 0s - loss: 0.7850 - accuracy: 0.8880\n",
            "Epoch 103: val_accuracy did not improve from 0.92784\n",
            "13/13 [==============================] - 1s 94ms/step - loss: 0.7867 - accuracy: 0.8857 - val_loss: 3.4279 - val_accuracy: 0.2268\n",
            "Epoch 104/150\n",
            "12/13 [==========================>...] - ETA: 0s - loss: 0.7019 - accuracy: 0.8776\n",
            "Epoch 104: val_accuracy did not improve from 0.92784\n",
            "13/13 [==============================] - 1s 96ms/step - loss: 0.7011 - accuracy: 0.8779 - val_loss: 2.2877 - val_accuracy: 0.4124\n",
            "Epoch 105/150\n",
            "12/13 [==========================>...] - ETA: 0s - loss: 0.5928 - accuracy: 0.9349\n",
            "Epoch 105: val_accuracy did not improve from 0.92784\n",
            "13/13 [==============================] - 1s 94ms/step - loss: 0.5947 - accuracy: 0.9351 - val_loss: 1.3080 - val_accuracy: 0.7320\n",
            "Epoch 106/150\n",
            "12/13 [==========================>...] - ETA: 0s - loss: 0.6039 - accuracy: 0.9036\n",
            "Epoch 106: val_accuracy improved from 0.92784 to 0.93814, saving model to model_weights-tamil.h5\n",
            "13/13 [==============================] - 1s 104ms/step - loss: 0.6034 - accuracy: 0.9039 - val_loss: 0.6062 - val_accuracy: 0.9381\n",
            "Epoch 107/150\n",
            "12/13 [==========================>...] - ETA: 0s - loss: 0.5152 - accuracy: 0.9557\n",
            "Epoch 107: val_accuracy improved from 0.93814 to 0.94845, saving model to model_weights-tamil.h5\n",
            "13/13 [==============================] - 1s 104ms/step - loss: 0.5149 - accuracy: 0.9558 - val_loss: 0.5827 - val_accuracy: 0.9485\n",
            "Epoch 108/150\n",
            "12/13 [==========================>...] - ETA: 0s - loss: 0.4797 - accuracy: 0.9661\n",
            "Epoch 108: val_accuracy did not improve from 0.94845\n",
            "13/13 [==============================] - 1s 99ms/step - loss: 0.4894 - accuracy: 0.9636 - val_loss: 0.8758 - val_accuracy: 0.8969\n",
            "Epoch 109/150\n",
            "12/13 [==========================>...] - ETA: 0s - loss: 0.8070 - accuracy: 0.8906\n",
            "Epoch 109: val_accuracy did not improve from 0.94845\n",
            "13/13 [==============================] - 1s 97ms/step - loss: 0.8153 - accuracy: 0.8883 - val_loss: 3.3244 - val_accuracy: 0.3608\n",
            "Epoch 110/150\n",
            "12/13 [==========================>...] - ETA: 0s - loss: 0.7960 - accuracy: 0.8906\n",
            "Epoch 110: val_accuracy did not improve from 0.94845\n",
            "13/13 [==============================] - 1s 94ms/step - loss: 0.7950 - accuracy: 0.8909 - val_loss: 1.4959 - val_accuracy: 0.4948\n",
            "Epoch 111/150\n",
            "12/13 [==========================>...] - ETA: 0s - loss: 0.6027 - accuracy: 0.9427\n",
            "Epoch 111: val_accuracy did not improve from 0.94845\n",
            "13/13 [==============================] - 1s 94ms/step - loss: 0.6062 - accuracy: 0.9403 - val_loss: 2.0082 - val_accuracy: 0.5052\n",
            "Epoch 112/150\n",
            "12/13 [==========================>...] - ETA: 0s - loss: 0.5287 - accuracy: 0.9688\n",
            "Epoch 112: val_accuracy did not improve from 0.94845\n",
            "13/13 [==============================] - 1s 94ms/step - loss: 0.5283 - accuracy: 0.9688 - val_loss: 2.9876 - val_accuracy: 0.4021\n",
            "Epoch 113/150\n",
            "12/13 [==========================>...] - ETA: 0s - loss: 0.4765 - accuracy: 0.9714\n",
            "Epoch 113: val_accuracy did not improve from 0.94845\n",
            "13/13 [==============================] - 1s 96ms/step - loss: 0.4763 - accuracy: 0.9714 - val_loss: 2.5616 - val_accuracy: 0.4227\n",
            "Epoch 114/150\n",
            "12/13 [==========================>...] - ETA: 0s - loss: 0.4663 - accuracy: 0.9844\n",
            "Epoch 114: val_accuracy did not improve from 0.94845\n",
            "13/13 [==============================] - 1s 96ms/step - loss: 0.4661 - accuracy: 0.9844 - val_loss: 1.6830 - val_accuracy: 0.6392\n",
            "Epoch 115/150\n",
            "12/13 [==========================>...] - ETA: 0s - loss: 0.4615 - accuracy: 0.9792\n",
            "Epoch 115: val_accuracy did not improve from 0.94845\n",
            "13/13 [==============================] - 1s 96ms/step - loss: 0.4614 - accuracy: 0.9792 - val_loss: 1.5223 - val_accuracy: 0.7526\n",
            "Epoch 116/150\n",
            "12/13 [==========================>...] - ETA: 0s - loss: 0.4314 - accuracy: 0.9948\n",
            "Epoch 116: val_accuracy did not improve from 0.94845\n",
            "13/13 [==============================] - 1s 97ms/step - loss: 0.4313 - accuracy: 0.9948 - val_loss: 1.4631 - val_accuracy: 0.7320\n",
            "Epoch 117/150\n",
            "12/13 [==========================>...] - ETA: 0s - loss: 0.4095 - accuracy: 0.9922\n",
            "Epoch 117: val_accuracy did not improve from 0.94845\n",
            "13/13 [==============================] - 1s 95ms/step - loss: 0.4148 - accuracy: 0.9896 - val_loss: 1.4633 - val_accuracy: 0.7423\n",
            "Epoch 118/150\n",
            "12/13 [==========================>...] - ETA: 0s - loss: 0.5987 - accuracy: 0.9427\n",
            "Epoch 118: val_accuracy did not improve from 0.94845\n",
            "13/13 [==============================] - 1s 97ms/step - loss: 0.5984 - accuracy: 0.9429 - val_loss: 1.5521 - val_accuracy: 0.6701\n",
            "Epoch 119/150\n",
            "12/13 [==========================>...] - ETA: 0s - loss: 0.4943 - accuracy: 0.9635\n",
            "Epoch 119: val_accuracy did not improve from 0.94845\n",
            "13/13 [==============================] - 1s 95ms/step - loss: 0.4940 - accuracy: 0.9636 - val_loss: 0.8900 - val_accuracy: 0.8866\n",
            "Epoch 120/150\n",
            "12/13 [==========================>...] - ETA: 0s - loss: 0.4745 - accuracy: 0.9818\n",
            "Epoch 120: val_accuracy did not improve from 0.94845\n",
            "13/13 [==============================] - 1s 95ms/step - loss: 0.4744 - accuracy: 0.9818 - val_loss: 1.0287 - val_accuracy: 0.8351\n",
            "Epoch 121/150\n",
            "12/13 [==========================>...] - ETA: 0s - loss: 0.4112 - accuracy: 0.9974\n",
            "Epoch 121: val_accuracy did not improve from 0.94845\n",
            "13/13 [==============================] - 1s 95ms/step - loss: 0.4112 - accuracy: 0.9974 - val_loss: 0.7476 - val_accuracy: 0.9072\n",
            "Epoch 122/150\n",
            "12/13 [==========================>...] - ETA: 0s - loss: 0.4134 - accuracy: 0.9896\n",
            "Epoch 122: val_accuracy did not improve from 0.94845\n",
            "13/13 [==============================] - 1s 95ms/step - loss: 0.4151 - accuracy: 0.9896 - val_loss: 0.7832 - val_accuracy: 0.8969\n",
            "Epoch 123/150\n",
            "12/13 [==========================>...] - ETA: 0s - loss: 0.4698 - accuracy: 0.9792\n",
            "Epoch 123: val_accuracy did not improve from 0.94845\n",
            "13/13 [==============================] - 1s 94ms/step - loss: 0.4696 - accuracy: 0.9792 - val_loss: 1.0807 - val_accuracy: 0.8660\n",
            "Epoch 124/150\n",
            "12/13 [==========================>...] - ETA: 0s - loss: 0.4277 - accuracy: 0.9922\n",
            "Epoch 124: val_accuracy did not improve from 0.94845\n",
            "13/13 [==============================] - 1s 96ms/step - loss: 0.4276 - accuracy: 0.9922 - val_loss: 0.7554 - val_accuracy: 0.9072\n",
            "Epoch 125/150\n",
            "12/13 [==========================>...] - ETA: 0s - loss: 0.4246 - accuracy: 0.9844\n",
            "Epoch 125: val_accuracy did not improve from 0.94845\n",
            "13/13 [==============================] - 1s 98ms/step - loss: 0.4323 - accuracy: 0.9818 - val_loss: 0.8895 - val_accuracy: 0.8866\n",
            "Epoch 126/150\n",
            "12/13 [==========================>...] - ETA: 0s - loss: 0.4715 - accuracy: 0.9792\n",
            "Epoch 126: val_accuracy did not improve from 0.94845\n",
            "13/13 [==============================] - 1s 94ms/step - loss: 0.4712 - accuracy: 0.9792 - val_loss: 2.5275 - val_accuracy: 0.5464\n",
            "Epoch 127/150\n",
            "12/13 [==========================>...] - ETA: 0s - loss: 0.4610 - accuracy: 0.9792\n",
            "Epoch 127: val_accuracy did not improve from 0.94845\n",
            "13/13 [==============================] - 1s 96ms/step - loss: 0.4608 - accuracy: 0.9792 - val_loss: 2.2784 - val_accuracy: 0.6186\n",
            "Epoch 128/150\n",
            "12/13 [==========================>...] - ETA: 0s - loss: 0.4351 - accuracy: 0.9844\n",
            "Epoch 128: val_accuracy did not improve from 0.94845\n",
            "13/13 [==============================] - 1s 97ms/step - loss: 0.4350 - accuracy: 0.9844 - val_loss: 1.8371 - val_accuracy: 0.6804\n",
            "Epoch 129/150\n",
            "12/13 [==========================>...] - ETA: 0s - loss: 0.3962 - accuracy: 1.0000\n",
            "Epoch 129: val_accuracy did not improve from 0.94845\n",
            "13/13 [==============================] - 1s 96ms/step - loss: 0.3963 - accuracy: 1.0000 - val_loss: 1.0460 - val_accuracy: 0.7938\n",
            "Epoch 130/150\n",
            "12/13 [==========================>...] - ETA: 0s - loss: 0.3942 - accuracy: 0.9948\n",
            "Epoch 130: val_accuracy did not improve from 0.94845\n",
            "13/13 [==============================] - 1s 99ms/step - loss: 0.3942 - accuracy: 0.9948 - val_loss: 0.6862 - val_accuracy: 0.9175\n",
            "Epoch 131/150\n",
            "12/13 [==========================>...] - ETA: 0s - loss: 0.3909 - accuracy: 0.9948\n",
            "Epoch 131: val_accuracy did not improve from 0.94845\n",
            "13/13 [==============================] - 1s 97ms/step - loss: 0.3908 - accuracy: 0.9948 - val_loss: 0.5888 - val_accuracy: 0.9381\n",
            "Epoch 132/150\n",
            "12/13 [==========================>...] - ETA: 0s - loss: 0.3854 - accuracy: 0.9974\n",
            "Epoch 132: val_accuracy improved from 0.94845 to 0.96907, saving model to model_weights-tamil.h5\n",
            "13/13 [==============================] - 1s 103ms/step - loss: 0.3853 - accuracy: 0.9974 - val_loss: 0.5520 - val_accuracy: 0.9691\n",
            "Epoch 133/150\n",
            "12/13 [==========================>...] - ETA: 0s - loss: 0.3895 - accuracy: 0.9896\n",
            "Epoch 133: val_accuracy did not improve from 0.96907\n",
            "13/13 [==============================] - 1s 95ms/step - loss: 0.3921 - accuracy: 0.9870 - val_loss: 0.5871 - val_accuracy: 0.9588\n",
            "Epoch 134/150\n",
            "12/13 [==========================>...] - ETA: 0s - loss: 0.7333 - accuracy: 0.9271\n",
            "Epoch 134: val_accuracy did not improve from 0.96907\n",
            "13/13 [==============================] - 1s 98ms/step - loss: 0.7324 - accuracy: 0.9273 - val_loss: 4.8009 - val_accuracy: 0.2474\n",
            "Epoch 135/150\n",
            "12/13 [==========================>...] - ETA: 0s - loss: 0.5362 - accuracy: 0.9479\n",
            "Epoch 135: val_accuracy did not improve from 0.96907\n",
            "13/13 [==============================] - 1s 94ms/step - loss: 0.5361 - accuracy: 0.9481 - val_loss: 4.3104 - val_accuracy: 0.2784\n",
            "Epoch 136/150\n",
            "12/13 [==========================>...] - ETA: 0s - loss: 0.4206 - accuracy: 0.9844\n",
            "Epoch 136: val_accuracy did not improve from 0.96907\n",
            "13/13 [==============================] - 1s 95ms/step - loss: 0.4204 - accuracy: 0.9844 - val_loss: 2.9848 - val_accuracy: 0.4536\n",
            "Epoch 137/150\n",
            "12/13 [==========================>...] - ETA: 0s - loss: 0.3991 - accuracy: 0.9922\n",
            "Epoch 137: val_accuracy did not improve from 0.96907\n",
            "13/13 [==============================] - 1s 99ms/step - loss: 0.4025 - accuracy: 0.9896 - val_loss: 1.6910 - val_accuracy: 0.6804\n",
            "Epoch 138/150\n",
            "12/13 [==========================>...] - ETA: 0s - loss: 0.5509 - accuracy: 0.9609\n",
            "Epoch 138: val_accuracy did not improve from 0.96907\n",
            "13/13 [==============================] - 1s 95ms/step - loss: 0.5505 - accuracy: 0.9610 - val_loss: 1.1872 - val_accuracy: 0.7526\n",
            "Epoch 139/150\n",
            "12/13 [==========================>...] - ETA: 0s - loss: 0.4229 - accuracy: 0.9870\n",
            "Epoch 139: val_accuracy did not improve from 0.96907\n",
            "13/13 [==============================] - 1s 96ms/step - loss: 0.4227 - accuracy: 0.9870 - val_loss: 1.1539 - val_accuracy: 0.7835\n",
            "Epoch 140/150\n",
            "12/13 [==========================>...] - ETA: 0s - loss: 0.4090 - accuracy: 0.9792\n",
            "Epoch 140: val_accuracy did not improve from 0.96907\n",
            "13/13 [==============================] - 1s 97ms/step - loss: 0.4088 - accuracy: 0.9792 - val_loss: 1.1696 - val_accuracy: 0.7732\n",
            "Epoch 141/150\n",
            "12/13 [==========================>...] - ETA: 0s - loss: 0.3946 - accuracy: 0.9948\n",
            "Epoch 141: val_accuracy did not improve from 0.96907\n",
            "13/13 [==============================] - 1s 96ms/step - loss: 0.3945 - accuracy: 0.9948 - val_loss: 1.0240 - val_accuracy: 0.8454\n",
            "Epoch 142/150\n",
            "12/13 [==========================>...] - ETA: 0s - loss: 0.3932 - accuracy: 0.9870\n",
            "Epoch 142: val_accuracy did not improve from 0.96907\n",
            "13/13 [==============================] - 1s 97ms/step - loss: 0.3932 - accuracy: 0.9870 - val_loss: 0.8437 - val_accuracy: 0.8660\n",
            "Epoch 143/150\n",
            "12/13 [==========================>...] - ETA: 0s - loss: 0.3813 - accuracy: 0.9922\n",
            "Epoch 143: val_accuracy did not improve from 0.96907\n",
            "13/13 [==============================] - 1s 98ms/step - loss: 0.3814 - accuracy: 0.9922 - val_loss: 0.7626 - val_accuracy: 0.8969\n",
            "Epoch 144/150\n",
            "12/13 [==========================>...] - ETA: 0s - loss: 0.3761 - accuracy: 0.9896\n",
            "Epoch 144: val_accuracy did not improve from 0.96907\n",
            "13/13 [==============================] - 1s 98ms/step - loss: 0.3763 - accuracy: 0.9896 - val_loss: 0.7528 - val_accuracy: 0.9175\n",
            "Epoch 145/150\n",
            "12/13 [==========================>...] - ETA: 0s - loss: 0.3694 - accuracy: 0.9974\n",
            "Epoch 145: val_accuracy did not improve from 0.96907\n",
            "13/13 [==============================] - 1s 98ms/step - loss: 0.3693 - accuracy: 0.9974 - val_loss: 0.9812 - val_accuracy: 0.8454\n",
            "Epoch 146/150\n",
            "12/13 [==========================>...] - ETA: 0s - loss: 0.3776 - accuracy: 0.9922\n",
            "Epoch 146: val_accuracy did not improve from 0.96907\n",
            "13/13 [==============================] - 1s 97ms/step - loss: 0.3776 - accuracy: 0.9922 - val_loss: 0.7372 - val_accuracy: 0.9072\n",
            "Epoch 147/150\n",
            "12/13 [==========================>...] - ETA: 0s - loss: 0.3641 - accuracy: 0.9922\n",
            "Epoch 147: val_accuracy did not improve from 0.96907\n",
            "13/13 [==============================] - 1s 97ms/step - loss: 0.3641 - accuracy: 0.9922 - val_loss: 0.6071 - val_accuracy: 0.9381\n",
            "Epoch 148/150\n",
            "12/13 [==========================>...] - ETA: 0s - loss: 0.3584 - accuracy: 1.0000\n",
            "Epoch 148: val_accuracy did not improve from 0.96907\n",
            "13/13 [==============================] - 1s 96ms/step - loss: 0.3584 - accuracy: 1.0000 - val_loss: 0.5712 - val_accuracy: 0.9381\n",
            "Epoch 149/150\n",
            "12/13 [==========================>...] - ETA: 0s - loss: 0.3529 - accuracy: 1.0000\n",
            "Epoch 149: val_accuracy did not improve from 0.96907\n",
            "13/13 [==============================] - 1s 99ms/step - loss: 0.3529 - accuracy: 1.0000 - val_loss: 0.5251 - val_accuracy: 0.9485\n",
            "Epoch 150/150\n",
            "12/13 [==========================>...] - ETA: 0s - loss: 0.3497 - accuracy: 0.9974\n",
            "Epoch 150: val_accuracy did not improve from 0.96907\n",
            "13/13 [==============================] - 1s 94ms/step - loss: 0.3497 - accuracy: 0.9974 - val_loss: 0.5137 - val_accuracy: 0.9485\n"
          ]
        }
      ]
    },
    {
      "cell_type": "code",
      "source": [
        "model.load_weights(best_weights_path)\n",
        "y_pred_prob = model.predict(X_test)\n",
        "y_pred = np.argmax(y_pred_prob, axis=1)"
      ],
      "metadata": {
        "colab": {
          "base_uri": "https://localhost:8080/"
        },
        "id": "MKFaSG92vwJu",
        "outputId": "1c54f363-c3f7-458f-8d8c-c83234bcff94"
      },
      "execution_count": null,
      "outputs": [
        {
          "output_type": "stream",
          "name": "stdout",
          "text": [
            "4/4 [==============================] - 0s 33ms/step\n"
          ]
        }
      ]
    },
    {
      "cell_type": "code",
      "source": [
        "report = classification_report(y_test, y_pred, output_dict=True)\n",
        "\n",
        "table = PrettyTable()\n",
        "table.field_names = [\"Class\", \"Precision\", \"Recall\", \"F1-Score\", \"Support\"]\n",
        "for label, metrics in report.items():\n",
        "    if label.isdigit():\n",
        "        precision = round(metrics['precision'], 2)\n",
        "        recall = round(metrics['recall'], 2)\n",
        "        f1_score = round(metrics['f1-score'], 2)\n",
        "        support = metrics['support']\n",
        "        table.add_row([label_dict[int(label)], precision, recall, f1_score, support])\n",
        "\n",
        "print(table)"
      ],
      "metadata": {
        "colab": {
          "base_uri": "https://localhost:8080/"
        },
        "id": "Vhv75lpvvwe8",
        "outputId": "a6ae890f-6338-4f63-8b3e-4179781a3a9f"
      },
      "execution_count": null,
      "outputs": [
        {
          "output_type": "stream",
          "name": "stdout",
          "text": [
            "+-----------+-----------+--------+----------+---------+\n",
            "|   Class   | Precision | Recall | F1-Score | Support |\n",
            "+-----------+-----------+--------+----------+---------+\n",
            "|   amma    |    0.91   |  1.0   |   0.95   |    10   |\n",
            "|    appa   |    1.0    |  1.0   |   1.0    |    7    |\n",
            "|    inru   |    1.0    |  1.0   |   1.0    |    9    |\n",
            "|   iravu   |    0.86   |  1.0   |   0.92   |    6    |\n",
            "|  kudikka  |    1.0    |  0.9   |   0.95   |    10   |\n",
            "| medhuvaga |    0.86   |  1.0   |   0.92   |    6    |\n",
            "|   nanri   |    1.0    |  1.0   |   1.0    |    10   |\n",
            "|   podhum  |    1.0    |  1.0   |   1.0    |    3    |\n",
            "|   thungu  |    1.0    |  1.0   |   1.0    |    9    |\n",
            "|   udhavi  |    1.0    |  1.0   |   1.0    |    7    |\n",
            "|   unavu   |    1.0    |  0.92  |   0.96   |    12   |\n",
            "|  vanakkam |    1.0    |  0.88  |   0.93   |    8    |\n",
            "+-----------+-----------+--------+----------+---------+\n"
          ]
        }
      ]
    },
    {
      "cell_type": "code",
      "source": [
        "print(\"Balanced accuracy:\", balanced_accuracy_score(y_test, y_pred)*100)"
      ],
      "metadata": {
        "colab": {
          "base_uri": "https://localhost:8080/"
        },
        "id": "AT5n_WP6vylC",
        "outputId": "c17570c6-f91d-419c-8ce4-5b6e31ea23b0"
      },
      "execution_count": null,
      "outputs": [
        {
          "output_type": "stream",
          "name": "stdout",
          "text": [
            "Balanced accuracy: 97.43055555555556\n"
          ]
        }
      ]
    },
    {
      "cell_type": "code",
      "source": [
        "# Convert y_true and y_pred to one-hot encoding\n",
        "n_classes = len(np.unique(y_test))\n",
        "y_true_bin = label_binarize(y_test, classes=np.arange(n_classes))\n",
        "y_pred_bin = model.predict(X_test)\n",
        "y_pred_bin = label_binarize(np.argmax(y_pred_bin, axis=1), classes=np.arange(n_classes))\n",
        "\n",
        "# Compute ROC curve and ROC AUC for each class\n",
        "fpr = dict()\n",
        "tpr = dict()\n",
        "roc_auc = dict()\n",
        "for i in range(n_classes):\n",
        "    fpr[i], tpr[i], _ = roc_curve(y_true_bin[:, i], y_pred_bin[:, i])\n",
        "    roc_auc[i] = auc(fpr[i], tpr[i])\n",
        "\n",
        "# Compute micro-average ROC curve and ROC AUC\n",
        "fpr_micro, tpr_micro, _ = roc_curve(y_true_bin.ravel(), y_pred_bin.ravel())\n",
        "roc_auc_micro = auc(fpr_micro, tpr_micro)\n",
        "\n",
        "# Plot ROC curves\n",
        "plt.figure(figsize=(8,6))\n",
        "lw = 2\n",
        "colors = ['blue', 'red', 'green', 'orange', 'purple', 'black', 'brown', 'magenta', 'gray', 'maroon', 'navy', 'olive', 'pink']\n",
        "for i, color in zip(range(n_classes), colors):\n",
        "    plt.plot(fpr[i], tpr[i], color=color, lw=lw,\n",
        "             label='ROC curve of {0} (AUC = {1:0.2f})'\n",
        "             ''.format(label_dict[i], roc_auc[i]))\n",
        "plt.plot(fpr_micro, tpr_micro, color='darkorange', lw=lw,\n",
        "         label='micro-average ROC curve (AUC = {0:0.2f})'\n",
        "         ''.format(roc_auc_micro))\n",
        "\n",
        "plt.plot([0, 1], [0, 1], 'k--', lw=lw)\n",
        "plt.xlim([0.0, 1.0])\n",
        "plt.ylim([0.0, 1.05])\n",
        "plt.xlabel('False Positive Rate')\n",
        "plt.ylabel('True Positive Rate')\n",
        "plt.title('ROC AUC Curve')\n",
        "plt.legend(loc=\"lower right\")\n",
        "plt.show()"
      ],
      "metadata": {
        "colab": {
          "base_uri": "https://localhost:8080/"
        },
        "id": "3o5ImIvuv4T2",
        "outputId": "5af6c208-71e7-4002-b41e-7ba2c8654e22"
      },
      "execution_count": null,
      "outputs": [
        {
          "output_type": "stream",
          "name": "stdout",
          "text": [
            "4/4 [==============================] - 0s 33ms/step\n"
          ]
        },
        {
          "output_type": "display_data",
          "data": {
            "text/plain": [
              "<Figure size 800x600 with 1 Axes>"
            ],
            "image/png": "[encoded data removed]"
          },
          "metadata": {}
        }
      ]
    },
    {
      "cell_type": "code",
      "source": [
        "conf_matrix = sklearn.metrics.confusion_matrix(y_test, y_pred)\n",
        "\n",
        "# Define the list of label strings in the order of their integer values\n",
        "label_strings = [label_dict[i] for i in range(len(label_dict))]\n",
        "\n",
        "# Generate the heatmap confusion matrix\n",
        "plt.figure(figsize=(15,8))\n",
        "sns.heatmap(conf_matrix, annot=True, cmap=\"Blues\", xticklabels=label_strings, yticklabels=label_strings)\n",
        "plt.xlabel(\"Predicted Labels\")\n",
        "plt.ylabel(\"True Labels\")\n",
        "plt.title(\"Confusion Matrix\")\n",
        "plt.show()"
      ],
      "metadata": {
        "colab": {
          "base_uri": "https://localhost:8080/"
        },
        "id": "1tPV_VK9wL6J",
        "outputId": "71c75b66-fd15-43c6-f51b-5acd45fe0bf9"
      },
      "execution_count": null,
      "outputs": [
        {
          "output_type": "display_data",
          "data": {
            "text/plain": [
              "<Figure size 1500x800 with 2 Axes>"
            ],
            "image/png": "[encoded data removed]"
          },
          "metadata": {}
        }
      ]
    },
    {
      "cell_type": "code",
      "source": [],
      "metadata": {
        "id": "BC5c9LiCwOHr"
      },
      "execution_count": null,
      "outputs": []
    }
  ]
}